{
  "nbformat": 4,
  "nbformat_minor": 0,
  "metadata": {
    "colab": {
      "provenance": [],
      "gpuType": "T4",
      "authorship_tag": "ABX9TyMLoP/QVP2qqFaAmKSd8qv6",
      "include_colab_link": true
    },
    "kernelspec": {
      "name": "python3",
      "display_name": "Python 3"
    },
    "language_info": {
      "name": "python"
    },
    "accelerator": "GPU"
  },
  "cells": [
    {
      "cell_type": "markdown",
      "metadata": {
        "id": "view-in-github",
        "colab_type": "text"
      },
      "source": [
        "<a href=\"https://colab.research.google.com/github/JoeXia77/Template-huggingface-llm/blob/main/translation_en_zh.ipynb\" target=\"_parent\"><img src=\"https://colab.research.google.com/assets/colab-badge.svg\" alt=\"Open In Colab\"/></a>"
      ]
    },
    {
      "cell_type": "code",
      "execution_count": null,
      "metadata": {
        "id": "8oFdQzFBAEP1"
      },
      "outputs": [],
      "source": [
        "## here is a translation model that can deal with en, zh and ru\n",
        "## it require 4GB gpu memory and the processing time is accepeable in real world task, with good accuracy\n",
        "## usage: like most llm, tell you want to translate to target_language in your command, it will handle the rest, giving a list where the first string is the result\n",
        "## limit of input is 512 token\n",
        "from transformers import T5ForConditionalGeneration, T5Tokenizer\n",
        "\n",
        "device = 'cuda' #or 'cpu' for translate on cpu\n",
        "\n",
        "model_name = 'utrobinmv/t5_translate_en_ru_zh_large_1024_v2'\n",
        "model = T5ForConditionalGeneration.from_pretrained(model_name)\n",
        "model.eval()\n",
        "model.to(device)\n",
        "tokenizer = T5Tokenizer.from_pretrained(model_name)\n",
        "\n"
      ]
    },
    {
      "cell_type": "code",
      "source": [
        "\n",
        "prefix = 'translate to zh: '\n",
        "text = \"\"\"\n",
        "\n",
        "\n",
        "Unpacking the Transformative Impact of Cloud Computing in Modern IT Landscapes\n",
        "\n",
        "Introduction:\n",
        "The advent of cloud computing has profoundly transformed the landscape of information technology, evolving beyond the legacy application hosting models prevalent in various industries. Unlike traditional models, which often constrained resource dynamics and scalability, cloud computing introduces a dynamic framework (El Kafhali, 2020). In this framework, resources are pooled and elastically allocated according to real-time demand across diverse client organizations. This paradigm shift has significantly benefited sectors with stringent regulatory requirements, such as banking and healthcare, by offering pathways to enhance operational efficiency while adhering to compliance mandates.\n",
        "\n",
        "Historical Context and Evolution:\n",
        "The origins of cloud computing trace back to the era of mainframe computers shared among user groups, setting the foundation for what would evolve into service-oriented architectures. In regulated industries, the concept of sharing IT resources was not novel, yet the scale and methodology were limited and often confined within organizational silos. The shift to cloud computing marked not just an iterative improvement but a radical overhaul in resource deployment, management, and scalability.\n",
        "\n",
        "The Economic Impetus:\n",
        "A primary catalyst for the shift towards cloud computing has been its economic impact. By leveraging economies of scale, cloud providers can distribute the costs of services across a broad user base, significantly reducing the computing cost per unit for each client. This cost-effectiveness, coupled with the ability to match computing needs to real-time consumption, has made cloud computing an attractive option for many businesses, particularly those handling sensitive data and requiring strict compliance with regulatory standards.\n",
        "\n",
        "Regulatory Considerations in Cloud Adoption:\n",
        "In sectors like banking and healthcare, where data sensitivity and compliance are paramount, cloud computing has evolved in ways that align with these stringent requirements. Providers have developed highly regulated cloud services that offer enhanced security measures, data governance frameworks, and compliance protocols (Felici, 2015). The ability of cloud computing to provide scalable solutions without compromising security has been a key factor in its widespread adoption within these sectors.\n",
        "\n",
        "Conclusion:\n",
        "Cloud computing continues to redefine the boundaries and capabilities of IT infrastructures across all sectors. For regulated industries, the benefits of cloud computing extend beyond mere cost savings to include enhanced operational efficiencies, better compliance with regulatory requirements, and facilitation of innovation. As cloud technologies evolve, they promise to further engrain themselves as foundational components of modern IT strategies.\n",
        "\n",
        "\"\"\"\n",
        "\n",
        "src_text = prefix + text\n",
        "\n",
        "# translate to Chinese\n",
        "input_ids = tokenizer(src_text, return_tensors=\"pt\")\n",
        "\n",
        "generated_tokens = model.generate(**input_ids.to(device))\n",
        "\n",
        "result = tokenizer.batch_decode(generated_tokens, skip_special_tokens=True)\n",
        "print(result)\n",
        "\n"
      ],
      "metadata": {
        "colab": {
          "base_uri": "https://localhost:8080/"
        },
        "id": "h69-bXBDCFiT",
        "outputId": "1f33fffe-ac4a-48d9-91dd-d5470929194c"
      },
      "execution_count": 10,
      "outputs": [
        {
          "output_type": "stream",
          "name": "stderr",
          "text": [
            "Token indices sequence length is longer than the specified maximum sequence length for this model (520 > 512). Running this sequence through the model will result in indexing errors\n"
          ]
        },
        {
          "output_type": "stream",
          "name": "stdout",
          "text": [
            "['概述:云计算的出现深刻地改变了信息技术的格局,超越了各行业中流行的传统应用程序托管模式。与通常限制资源动态性和可扩展性的传统模型不同,云计算引入了一个动态框架(El Kafhali,2020)。在这个框架中,根据不同客户组织的实时需求,资源被集中和弹性分配。这种范式转变大大有利于具有严格监管要求的部门,如银行和医疗保健,通过提供提高运营效率的途径,同时遵守合规任务。历史背景和演变:云计算起源可以追溯到用户群体共享大型计算机时代,为未来发展成为面向服务的架构奠定了基础。在受监管行业的IT资源共享概念并不新鲜,但其规模和方法有限,往往局限于组织孤岛内。向云计算的转变标志着不仅仅是一次迭代改进,而是对资源部署,管理和可扩展性的彻底改革。经济动力:向云计算转变的主要催化剂是其经济影响。利用规模经济,云提供商可以在广泛的用户群中分配服务成本,显著降低每个客户的单位计算成本。这种成本效益,加上将计算需求与实时消费相匹配的能力,使云计算成为许多企业的一个有吸引力的选择,特别是那些处理敏感数据并需要严格遵守法规标准的企业。云采用中的监管考虑因素:在像银行和医疗这样的领域,数据敏感性和合规性至关重要,云计算已经以符合这些严格要求的方式发展。供应商开发了高度规范的云服务,提供了增强的安全措施,数据治理框架和合规协议(Felici,1995)。云计算在不损害安全性的情况下提供可扩展解决方案的能力一直是在这些领域广泛采用的关键因素。结论:云计算继续重新定义所有部门的IT基础设施的边界和能力。对于受监管行业来说,云计算的好处不仅仅限于节省成本,还包括提高运营效能,更好地满足法规要求,促进创新。随着云计算技术的发展,它们有望进一步成为现代IT战略的基础组成部分。']\n"
          ]
        }
      ]
    },
    {
      "cell_type": "code",
      "source": [
        "prefix = 'translate to en: '\n",
        "text = \"\"\"\n",
        "云计算是信息技术(IT)历史上最重要的范式转变之一。这是由于共享应用程序托管提供商的扩展,该提供商已经存在多年,在银行和医疗保健机构等高度监管的垂直行业中很常见。云计算背后的推动力在于它通过将成本分散在许多客户组织中并汇集计算资源来提供规模经济,同时以灵活的实时版本匹配客户端计算需求与消费。\n",
        "\"\"\"\n",
        "\n",
        "src_text = prefix + text\n",
        "\n",
        "# translate to Chinese\n",
        "input_ids = tokenizer(src_text, return_tensors=\"pt\")\n",
        "\n",
        "generated_tokens = model.generate(**input_ids.to(device))\n",
        "\n",
        "result = tokenizer.batch_decode(generated_tokens, skip_special_tokens=True)\n",
        "print(result)"
      ],
      "metadata": {
        "colab": {
          "base_uri": "https://localhost:8080/"
        },
        "id": "v-dhFLjBDVwz",
        "outputId": "90d3a810-687b-47d2-ade2-fa21c718521f"
      },
      "execution_count": 5,
      "outputs": [
        {
          "output_type": "stream",
          "name": "stdout",
          "text": [
            "['Cloud computing is one of the most important paradigm shifts in the history of information technology (IT). This is due to the expansion of shared application hosting providers, which have been around for many years and are commonplace in highly regulated vertical industries such as banks and healthcare institutions. The driving force behind cloud computing lies in its ability to provide economies of scale by decentralizing costs across many customer organizations and pooling computing resources, while matching client computing needs with consumption in a flexible real-time version.']\n"
          ]
        }
      ]
    }
  ]
}
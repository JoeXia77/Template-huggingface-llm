{
  "nbformat": 4,
  "nbformat_minor": 0,
  "metadata": {
    "colab": {
      "provenance": [],
      "gpuType": "T4",
      "authorship_tag": "ABX9TyPsnX4KLhXb1dZJrT19OHqZ",
      "include_colab_link": true
    },
    "kernelspec": {
      "name": "python3",
      "display_name": "Python 3"
    },
    "language_info": {
      "name": "python"
    },
    "accelerator": "GPU"
  },
  "cells": [
    {
      "cell_type": "markdown",
      "metadata": {
        "id": "view-in-github",
        "colab_type": "text"
      },
      "source": [
        "<a href=\"https://colab.research.google.com/github/JoeXia77/Template-huggingface-llm/blob/main/translation_en_zh.ipynb\" target=\"_parent\"><img src=\"https://colab.research.google.com/assets/colab-badge.svg\" alt=\"Open In Colab\"/></a>"
      ]
    },
    {
      "cell_type": "code",
      "execution_count": null,
      "metadata": {
        "id": "8oFdQzFBAEP1"
      },
      "outputs": [],
      "source": [
        "## here is a translation model that can deal with en, zh and ru\n",
        "## it require 4GB gpu memory and the processing time is accepeable in real world task, with good accuracy\n",
        "## usage: like most llm, tell you want to translate to target_language in your command, it will handle the rest, giving a list where the first string is the result\n",
        "## limit of input is 512 token\n",
        "from transformers import T5ForConditionalGeneration, T5Tokenizer\n",
        "\n",
        "device = 'cuda' #or 'cpu' for translate on cpu\n",
        "\n",
        "model_name = 'utrobinmv/t5_translate_en_ru_zh_large_1024_v2'\n",
        "model = T5ForConditionalGeneration.from_pretrained(model_name)\n",
        "model.eval()\n",
        "model.to(device)\n",
        "tokenizer = T5Tokenizer.from_pretrained(model_name)\n",
        "\n"
      ]
    },
    {
      "cell_type": "code",
      "source": [
        "\n",
        "prefix = 'translate to zh: '\n",
        "text = \"\"\"\n",
        "Introduction:\n",
        "The advent of cloud computing has profoundly transformed the landscape of information technology, evolving beyond the legacy application hosting models prevalent in various industries.\n",
        "\"\"\"\n",
        "\n",
        "src_text = prefix + text\n",
        "\n",
        "# translate to Chinese\n",
        "input_ids = tokenizer(src_text, return_tensors=\"pt\")\n",
        "\n",
        "generated_tokens = model.generate(**input_ids.to(device))\n",
        "\n",
        "result = tokenizer.batch_decode(generated_tokens, skip_special_tokens=True)\n",
        "print(result)\n",
        "\n"
      ],
      "metadata": {
        "colab": {
          "base_uri": "https://localhost:8080/"
        },
        "id": "h69-bXBDCFiT",
        "outputId": "5de2c53b-04dd-4e06-aae3-6a0faef022af"
      },
      "execution_count": 11,
      "outputs": [
        {
          "output_type": "stream",
          "name": "stdout",
          "text": [
            "['云计算的出现深刻地改变了信息技术的格局,超越了各种行业中流行的传统应用程序托管模式。']\n"
          ]
        }
      ]
    },
    {
      "cell_type": "code",
      "source": [
        "prefix = 'translate to en: '\n",
        "text = \"\"\"\n",
        "云计算是信息技术(IT)历史上最重要的范式转变之一。这是由于共享应用程序托管提供商的扩展,该提供商已经存在多年,在银行和医疗保健机构等高度监管的垂直行业中很常见。云计算背后的推动力在于它通过将成本分散在许多客户组织中并汇集计算资源来提供规模经济,同时以灵活的实时版本匹配客户端计算需求与消费。\n",
        "\"\"\"\n",
        "\n",
        "src_text = prefix + text\n",
        "\n",
        "# translate to Chinese\n",
        "input_ids = tokenizer(src_text, return_tensors=\"pt\")\n",
        "\n",
        "generated_tokens = model.generate(**input_ids.to(device))\n",
        "\n",
        "result = tokenizer.batch_decode(generated_tokens, skip_special_tokens=True)\n",
        "print(result)"
      ],
      "metadata": {
        "colab": {
          "base_uri": "https://localhost:8080/"
        },
        "id": "v-dhFLjBDVwz",
        "outputId": "90d3a810-687b-47d2-ade2-fa21c718521f"
      },
      "execution_count": 5,
      "outputs": [
        {
          "output_type": "stream",
          "name": "stdout",
          "text": [
            "['Cloud computing is one of the most important paradigm shifts in the history of information technology (IT). This is due to the expansion of shared application hosting providers, which have been around for many years and are commonplace in highly regulated vertical industries such as banks and healthcare institutions. The driving force behind cloud computing lies in its ability to provide economies of scale by decentralizing costs across many customer organizations and pooling computing resources, while matching client computing needs with consumption in a flexible real-time version.']\n"
          ]
        }
      ]
    }
  ]
}